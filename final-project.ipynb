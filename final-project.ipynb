{
 "cells": [
  {
   "cell_type": "code",
   "execution_count": 5,
   "metadata": {},
   "outputs": [
    {
     "name": "stdout",
     "output_type": "stream",
     "text": [
      "0.573049645390071\n",
      "0.5657596371882087\n",
      "[[ 0.13126259 -0.05050672  0.40369947 -0.54259723 -0.02552797]]\n",
      "[('drinks_code', 0.13126259495495265), ('smokes_code', -0.050506720649647965), ('drugs_code', 0.4036994662450552), ('orientation_code', -0.5425972312643436), ('status_code', -0.02552797420710838)]\n"
     ]
    }
   ],
   "source": [
    "#Imports:\n",
    "import pandas as pd\n",
    "import numpy as np\n",
    "from matplotlib import pyplot as plt\n",
    "from sklearn.linear_model import LogisticRegression\n",
    "from sklearn.model_selection import train_test_split\n",
    "from sklearn.preprocessing import StandardScaler\n",
    "\n",
    "#Dataframe:\n",
    "df = pd.read_csv(\"profiles.csv\")\n",
    "df = df.dropna()\n",
    "\n",
    "#Mapping:\n",
    "drink_mapping = {\"not at all\": 0, \"rarely\": 1, \"socially\": 2, \"often\": 3, \"very often\": 4, \"desperately\": 5}\n",
    "df[\"drinks_code\"] = df.drinks.map(drink_mapping)\n",
    "\n",
    "smokes_mapping = {\"no\": 0, \"sometimes\": 1, \"when drinking\": 2, \"yes\": 3, \"trying to quit\": 4}\n",
    "df[\"smokes_code\"] = df.smokes.map(smokes_mapping)\n",
    "\n",
    "drugs_mapping = {\"never\": 0, \"sometimes\": 1, \"often\": 2}\n",
    "df[\"drugs_code\"] = df.drugs.map(drugs_mapping)\n",
    "\n",
    "orientation_mapping = {\"straight\": 0, \"gay\": 1, \"bisexual\": 2}\n",
    "df[\"orientation_code\"] = df.orientation.map(orientation_mapping)\n",
    "\n",
    "status_mapping = {\"single\": 0, \"available\": 1, \"seeing someone\": 2, \"married\": 3}\n",
    "df[\"status_code\"] = df.status.map(status_mapping)\n",
    "\n",
    "# Split train, test\n",
    "\n",
    "features = df[['smokes_code', 'drinks_code', 'drugs_code','orientation_code','status_code']]\n",
    "label = df['sex']\n",
    "\n",
    "x_train, x_test, y_train, y_test = train_test_split(features,label,test_size=0.2)\n",
    "\n",
    "# Scale\n",
    "scaler = StandardScaler()\n",
    "train_features = scaler.fit_transform(x_train)\n",
    "test_features = scaler.transform(x_test)\n",
    "\n",
    "# Create and train the model\n",
    "model = LogisticRegression()\n",
    "model.fit(x_train, y_train)\n",
    "\n",
    "# Scores and analyze coeffs\n",
    "score_train = model.score(x_train, y_train)\n",
    "print(score_train)\n",
    "score_test = model.score(x_test, y_test)\n",
    "print(score_test)\n",
    "print(model.coef_)\n",
    "print(list(zip(['drinks_code', 'smokes_code', 'drugs_code', 'orientation_code','status_code'],model.coef_[0])))"
   ]
  },
  {
   "cell_type": "code",
   "execution_count": 8,
   "metadata": {},
   "outputs": [
    {
     "name": "stdout",
     "output_type": "stream",
     "text": [
      "['m' 'f' 'm']\n",
      "[[0.42725414 0.57274586]\n",
      " [0.64230798 0.35769202]\n",
      " [0.09655421 0.90344579]]\n"
     ]
    }
   ],
   "source": [
    "# Sample passenger features\n",
    "super_healthy_straight_single = np.array([0,0,0,0,0])\n",
    "social_gay_available = np.array([2,2,1,1,1])\n",
    "bisexual_seeing_someone_smokes_and_drugs = np.array([4,3,2,2,2])\n",
    "\n",
    "# Combine and scale\n",
    "sample_profiles = np.array([profile_one,profile_two,profile_three])\n",
    "sample_profiles = scaler.transform(sample_profiles)\n",
    "\n",
    "# Predictions!\n",
    "print(model.predict(sample_profiles))\n",
    "print(model.predict_proba(sample_profiles))"
   ]
  },
  {
   "cell_type": "markdown",
   "metadata": {},
   "source": [
    "Conclusions"
   ]
  },
  {
   "cell_type": "code",
   "execution_count": 12,
   "metadata": {},
   "outputs": [
    {
     "name": "stdout",
     "output_type": "stream",
     "text": [
      "  sex  count\n",
      "0   f   1937\n",
      "1   m   2470\n"
     ]
    },
    {
     "data": {
      "image/png": "[encoded data removed]",
      "text/plain": [
       "<Figure size 432x288 with 1 Axes>"
      ]
     },
     "metadata": {},
     "output_type": "display_data"
    }
   ],
   "source": [
    "sex_df = df.groupby('sex')['age'].count().reset_index()\n",
    "sex_df.rename(columns = {'age':'count'}, inplace = True)\n",
    "print(sex_df)\n",
    "\n",
    "plt.pie(sex_df['count'], labels = sex_df['sex'], autopct = '%d%%')\n",
    "plt.axis('equal')\n",
    "plt.title('Distribution of Men vs Women')\n",
    "plt.show()"
   ]
  },
  {
   "cell_type": "markdown",
   "metadata": {},
   "source": [
    "if you are looking for a healthy, straight single, the probability of getting matched with a woman / man is:'"
   ]
  },
  {
   "cell_type": "code",
   "execution_count": 34,
   "metadata": {},
   "outputs": [
    {
     "name": "stdout",
     "output_type": "stream",
     "text": [
      "[0.42725414 0.57274586]\n"
     ]
    }
   ],
   "source": [
    "print((model.predict_proba(sample_profiles))[0])"
   ]
  },
  {
   "cell_type": "markdown",
   "metadata": {},
   "source": [
    "if you are looking for a social gay who is available, the probability of getting matched with a woman / man is:'"
   ]
  },
  {
   "cell_type": "code",
   "execution_count": 35,
   "metadata": {},
   "outputs": [
    {
     "name": "stdout",
     "output_type": "stream",
     "text": [
      "[0.64230798 0.35769202]\n"
     ]
    }
   ],
   "source": [
    "print((model.predict_proba(sample_profiles))[1])"
   ]
  },
  {
   "cell_type": "markdown",
   "metadata": {},
   "source": [
    "if you are looking for a bisexual who is seeing someone and smokes and drinks, the probability of getting matched with a woman / man is:'"
   ]
  },
  {
   "cell_type": "code",
   "execution_count": 32,
   "metadata": {},
   "outputs": [
    {
     "name": "stdout",
     "output_type": "stream",
     "text": [
      "[0.09655421 0.90344579]\n"
     ]
    }
   ],
   "source": [
    "print((model.predict_proba(sample_profiles))[2])"
   ]
  },
  {
   "cell_type": "code",
   "execution_count": null,
   "metadata": {},
   "outputs": [],
   "source": []
  }
 ],
 "metadata": {
  "kernelspec": {
   "display_name": "Python 3",
   "language": "python",
   "name": "python3"
  },
  "language_info": {
   "codemirror_mode": {
    "name": "ipython",
    "version": 3
   },
   "file_extension": ".py",
   "mimetype": "text/x-python",
   "name": "python",
   "nbconvert_exporter": "python",
   "pygments_lexer": "ipython3",
   "version": "3.7.6"
  }
 },
 "nbformat": 4,
 "nbformat_minor": 4
}
